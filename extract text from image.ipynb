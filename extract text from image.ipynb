{
 "cells": [
  {
   "cell_type": "code",
   "execution_count": 3,
   "id": "3cf73b4c",
   "metadata": {},
   "outputs": [],
   "source": [
    " from PIL import Image"
   ]
  },
  {
   "cell_type": "code",
   "execution_count": 4,
   "id": "1c7b4885",
   "metadata": {},
   "outputs": [],
   "source": [
    "from pytesseract import pytesseract"
   ]
  },
  {
   "cell_type": "code",
   "execution_count": 5,
   "id": "ead39680",
   "metadata": {},
   "outputs": [],
   "source": [
    "path_to_tesseract = r\"C:\\Users\\gasmiz\\AppData\\Local\\Programs\\Tesseract-OCR\\tesseract.exe\"\n",
    "image_path = \"digi.png\""
   ]
  },
  {
   "cell_type": "code",
   "execution_count": 6,
   "id": "1333751c",
   "metadata": {},
   "outputs": [],
   "source": [
    "img = Image.open(image_path)"
   ]
  },
  {
   "cell_type": "code",
   "execution_count": 7,
   "id": "f6a1d4a9",
   "metadata": {},
   "outputs": [],
   "source": [
    "pytesseract.tesseract_cmd = path_to_tesseract"
   ]
  },
  {
   "cell_type": "code",
   "execution_count": 8,
   "id": "ee7daa9d",
   "metadata": {},
   "outputs": [],
   "source": [
    "text = pytesseract.image_to_string(img, lang=\"eng\")"
   ]
  },
  {
   "cell_type": "code",
   "execution_count": 9,
   "id": "2cb6a4d3",
   "metadata": {},
   "outputs": [
    {
     "name": "stdout",
     "output_type": "stream",
     "text": [
      "10°\n",
      "\n",
      "10?\n",
      "\n",
      "10'\n",
      "\n",
      "10°\n",
      "\n",
      "107\n",
      "\f",
      "\n"
     ]
    }
   ],
   "source": [
    "print(text)"
   ]
  },
  {
   "cell_type": "code",
   "execution_count": 15,
   "id": "5cf24842",
   "metadata": {},
   "outputs": [],
   "source": [
    "def output_file(filename, data):\n",
    "    file = open(filename, \"w+\")\n",
    "    file.writelines(data)\n",
    "    file.close()"
   ]
  },
  {
   "cell_type": "code",
   "execution_count": 16,
   "id": "378ff0c4",
   "metadata": {},
   "outputs": [],
   "source": [
    "output_file(\"eng.txt\", text)"
   ]
  },
  {
   "cell_type": "code",
   "execution_count": 17,
   "id": "f63533e1",
   "metadata": {},
   "outputs": [],
   "source": [
    "numbers = set()"
   ]
  },
  {
   "cell_type": "code",
   "execution_count": 18,
   "id": "980a65a9",
   "metadata": {},
   "outputs": [],
   "source": [
    "out = open('output.txt', 'w')"
   ]
  },
  {
   "cell_type": "code",
   "execution_count": 19,
   "id": "77d9c2f4",
   "metadata": {},
   "outputs": [
    {
     "name": "stdout",
     "output_type": "stream",
     "text": [
      "Warning: cannot convert to number string '10°'\n",
      "Warning: cannot convert to number string ''\n"
     ]
    }
   ],
   "source": [
    "for line in open('eng.txt'):\n",
    "    try:                                                                        \n",
    "        i = int(line)\n",
    "    except ValueError:\n",
    "        print (\"Warning: cannot convert to number string '%s'\" % line.strip() )      \n",
    "        continue\n",
    "    if i not in numbers:\n",
    "        out.write('%d\\n' % i)\n",
    "        numbers.add(i)"
   ]
  },
  {
   "cell_type": "code",
   "execution_count": null,
   "id": "02c35f78",
   "metadata": {},
   "outputs": [],
   "source": []
  }
 ],
 "metadata": {
  "kernelspec": {
   "display_name": "Python 3",
   "language": "python",
   "name": "python3"
  },
  "language_info": {
   "codemirror_mode": {
    "name": "ipython",
    "version": 3
   },
   "file_extension": ".py",
   "mimetype": "text/x-python",
   "name": "python",
   "nbconvert_exporter": "python",
   "pygments_lexer": "ipython3",
   "version": "3.8.8"
  }
 },
 "nbformat": 4,
 "nbformat_minor": 5
}
